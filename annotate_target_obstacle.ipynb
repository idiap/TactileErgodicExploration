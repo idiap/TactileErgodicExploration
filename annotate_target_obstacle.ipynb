{
 "cells": [
  {
   "cell_type": "code",
   "execution_count": 21,
   "metadata": {},
   "outputs": [],
   "source": [
    "\"\"\"\n",
    "    Copyright (c) 2024 Idiap Research Institute, http://www.idiap.ch/\n",
    "    Written by Cem Bilaloglu <cem.bilaloglu@idiap.ch>\n",
    "\n",
    "    This file is part of diffusionVirtualFixtures.\n",
    "\n",
    "    diffusionVirtualFixtures is free software: you can redistribute it and/or modify\n",
    "    it under the terms of the GNU General Public License version 3 as\n",
    "    published by the Free Software Foundation.\n",
    "\n",
    "    diffusionVirtualFixtures is distributed in the hope that it will be useful,\n",
    "    but WITHOUT ANY WARRANTY; without even the implied warranty of\n",
    "    MERCHANTABILITY or FITNESS FOR A PARTICULAR PURPOSE. See the\n",
    "    GNU General Public License for more details.\n",
    "\n",
    "    You should have received a copy of the GNU General Public License\n",
    "    along with diffusionVirtualFixtures. If not, see <http://www.gnu.org/licenses/>.\n",
    "\"\"\"\n",
    "\"\"\"\n",
    "This notebook is used for testing the functions in point_cloud_utils.py\n",
    "and diffusion_utils.py. It is also used for visualizing the results \n",
    "\"\"\"\n",
    "\n",
    "import numpy as np\n",
    "import open3d as o3d\n",
    "import cv2\n",
    "# from point_cloud_utils import *\n",
    "from plotting_utils import *\n",
    "\n",
    "input_img_dir = \"images/\"\n",
    "point_cloud_dir = \"point_clouds/\" # for loading the point cloud"
   ]
  },
  {
   "cell_type": "code",
   "execution_count": 22,
   "metadata": {},
   "outputs": [
    {
     "name": "stdout",
     "output_type": "stream",
     "text": [
      "31701\n"
     ]
    }
   ],
   "source": [
    "# Select the object and load the point cloud\n",
    "# ==========================================\n",
    "obj_name = \"bun270\"\n",
    "\n",
    "filename = f\"{point_cloud_dir}{obj_name}.ply\"\n",
    "pcd = o3d.io.read_point_cloud(filename)\n",
    "\n",
    "pcd_tree = o3d.geometry.KDTreeFlann(pcd)\n",
    "vertices = np.asarray(pcd.points)\n",
    "print(len(vertices))\n",
    "\n",
    "# Reset the annotation\n",
    "u0 = np.ones((len(vertices),3))"
   ]
  },
  {
   "cell_type": "code",
   "execution_count": 23,
   "metadata": {},
   "outputs": [
    {
     "data": {
      "application/vnd.jupyter.widget-view+json": {
       "model_id": "548b7bbd36ef4c8797a9bc6925785111",
       "version_major": 2,
       "version_minor": 0
      },
      "text/plain": [
       "FigureWidget({\n",
       "    'data': [{'marker': {'color': [rgb(1,1,1), rgb(1,1,1), rgb(1,1,1), ...,\n",
       "                                   rgb(1,1,1), rgb(1,1,1), rgb(1,1,1)],\n",
       "                         'opacity': 0.2,\n",
       "                         'showscale': True,\n",
       "                         'size': 3},\n",
       "              'mode': 'markers',\n",
       "              'name': 'Point Cloud',\n",
       "              'type': 'scatter3d',\n",
       "              'uid': 'a0e98189-b400-422f-9b35-310a40c42a43',\n",
       "              'x': array([-0.02525, -0.02475, -0.02425, ..., -0.018  , -0.0175 , -0.017  ]),\n",
       "              'y': array([0.0347151, 0.034729 , 0.0347708, ..., 0.187602 , 0.187601 , 0.187601 ]),\n",
       "              'z': array([0.0434868, 0.0436137, 0.0439944, ..., 0.0190251, 0.019152 , 0.019152 ])}],\n",
       "    'layout': {'scene': {'aspectmode': 'data',\n",
       "                         'camera': {'center': {'x': 0, 'y': 0, 'z': 0},\n",
       "                                    'eye': {'x': 0.0, 'y': 0.0, 'z': 2.0},\n",
       "                                    'up': {'x': 0, 'y': 1, 'z': 0}},\n",
       "                         'xaxis': {'visible': False},\n",
       "                         'yaxis': {'visible': False},\n",
       "                         'zaxis': {'visible': False}},\n",
       "               'showlegend': True,\n",
       "               'template': '...'}\n",
       "})"
      ]
     },
     "execution_count": 23,
     "metadata": {},
     "output_type": "execute_result"
    }
   ],
   "source": [
    "# Set the target regions on the point cloud -> Click with the cursor to add targets\n",
    "#==============================================================================\n",
    "fig = visualize_point_cloud(vertices,colors=u0,point_size=3,is_show_plot=True)\n",
    "\n",
    "radius = 0.005 # radius of the brush\n",
    "strip_thickness = 0.001 # thickness of the boundary strip\n",
    "u0 = 0*np.ones((len(vertices),3))\n",
    "target_vertices = []\n",
    "boundary_vertices = []\n",
    "def update_point(trace, points, selector):\n",
    "# create our callback function\n",
    "    c = list(trace.marker.color)\n",
    "    for i in points.point_inds:\n",
    "        # get the indices of the points within the radius\n",
    "        k,idx, dists = pcd_tree.search_radius_vector_3d(vertices[i], radius)\n",
    "        idx = np.asarray(idx).astype(int)\n",
    "        for j in idx:\n",
    "            # if int(j) not in boundary_vertices:\n",
    "            # mark the boundary points \n",
    "            d = np.linalg.norm(vertices[j,:]-vertices[i,:])\n",
    "            # mark the target points\n",
    "            u0[j,:] = [0,255,0]\n",
    "            c[j] = \"green\"\n",
    "            if d > (radius-strip_thickness):\n",
    "                # if it is already a target, it can't be a boundary\n",
    "                if int(j) not in target_vertices: \n",
    "                    c[j] = \"blue\" # overwrite the color\n",
    "                    u0[j,:] = [0,255,255]\n",
    "                    boundary_vertices.append(j)\n",
    "\n",
    "            target_vertices.append(j) # add after the boundary\n",
    "        with fig.batch_update():\n",
    "            trace.marker.color = c\n",
    "\n",
    "target_img_name = \"drawing\"\n",
    "fig.data[0].on_click(update_point)\n",
    "fig"
   ]
  },
  {
   "cell_type": "code",
   "execution_count": 24,
   "metadata": {},
   "outputs": [
    {
     "name": "stdout",
     "output_type": "stream",
     "text": [
      "\u001b[1;33m[Open3D WARNING] Write Ply clamped color value to valid range\u001b[0;m\n"
     ]
    },
    {
     "data": {
      "text/plain": [
       "True"
      ]
     },
     "execution_count": 24,
     "metadata": {},
     "output_type": "execute_result"
    }
   ],
   "source": [
    "# Save the point cloud with the target\n",
    "#==============================================================================\n",
    "pcd.colors = o3d.utility.Vector3dVector(u0) # r: obstacle, g: target, b: boundary\n",
    "pcd.points = o3d.utility.Vector3dVector(vertices)\n",
    "# filename = f\"{point_cloud_dir}{obj_name}_{target_img_name}_{constraint_img_name}\"\n",
    "filename = f\"{point_cloud_dir}{obj_name}_annotated\"\n",
    "o3d.io.write_point_cloud(filename+\".ply\", pcd)"
   ]
  }
 ],
 "metadata": {
  "kernelspec": {
   "display_name": "ros_env",
   "language": "python",
   "name": "python3"
  },
  "language_info": {
   "codemirror_mode": {
    "name": "ipython",
    "version": 3
   },
   "file_extension": ".py",
   "mimetype": "text/x-python",
   "name": "python",
   "nbconvert_exporter": "python",
   "pygments_lexer": "ipython3",
   "version": "3.9.18"
  }
 },
 "nbformat": 4,
 "nbformat_minor": 2
}
